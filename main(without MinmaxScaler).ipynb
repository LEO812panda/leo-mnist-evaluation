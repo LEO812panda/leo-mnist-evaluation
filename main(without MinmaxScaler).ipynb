{
 "cells": [
  {
   "cell_type": "code",
   "execution_count": 38,
   "metadata": {},
   "outputs": [],
   "source": [
    "import numpy as np\n",
    "import csv\n",
    "import time\n",
    "import matplotlib.pyplot as plt\n",
    "\n",
    "csv_filename = 'digits.csv'\n",
    "with open(csv_filename) as f:\n",
    "    reader = csv.reader(f)\n",
    "    lst = list(reader)"
   ]
  },
  {
   "cell_type": "code",
   "execution_count": 39,
   "metadata": {},
   "outputs": [
    {
     "name": "stdout",
     "output_type": "stream",
     "text": [
      "[['label' '0x0' '0x1' ... '13x11' '13x12' '13x13']\n",
      " ['7' '0' '0' ... '0' '0' '0']\n",
      " ['3' '0' '0' ... '0' '0' '0']\n",
      " ...\n",
      " ['7' '0' '0' ... '0' '0' '0']\n",
      " ['2' '0' '0' ... '0' '0' '0']\n",
      " ['5' '0' '0' ... '0' '0' '0']]\n"
     ]
    }
   ],
   "source": [
    "array = np.array(lst)\n",
    "print(array)"
   ]
  },
  {
   "cell_type": "code",
   "execution_count": 40,
   "metadata": {},
   "outputs": [
    {
     "name": "stdout",
     "output_type": "stream",
     "text": [
      "[['7' '0' '0' ... '0' '0' '0']\n",
      " ['3' '0' '0' ... '0' '0' '0']\n",
      " ['8' '0' '0' ... '0' '0' '0']\n",
      " ...\n",
      " ['7' '0' '0' ... '0' '0' '0']\n",
      " ['2' '0' '0' ... '0' '0' '0']\n",
      " ['5' '0' '0' ... '0' '0' '0']]\n"
     ]
    }
   ],
   "source": [
    "array1 = np.delete(array, 0, axis=0)\n",
    "print(array1)"
   ]
  },
  {
   "cell_type": "code",
   "execution_count": 41,
   "metadata": {},
   "outputs": [
    {
     "name": "stdout",
     "output_type": "stream",
     "text": [
      "6000 197\n"
     ]
    }
   ],
   "source": [
    "num_row = np.size(array1, axis = 0)\n",
    "num_colomn = np.size(array1, axis = 1)\n",
    "print(num_row, num_colomn)"
   ]
  },
  {
   "cell_type": "code",
   "execution_count": 42,
   "metadata": {},
   "outputs": [
    {
     "name": "stdout",
     "output_type": "stream",
     "text": [
      "[['0' '0' '0' ... '0' '0' '0']\n",
      " ['0' '0' '0' ... '0' '0' '0']\n",
      " ['0' '0' '0' ... '0' '0' '0']\n",
      " ...\n",
      " ['0' '0' '0' ... '0' '0' '0']\n",
      " ['0' '0' '0' ... '0' '0' '0']\n",
      " ['0' '0' '0' ... '0' '0' '0']]\n"
     ]
    }
   ],
   "source": [
    "arr_img = np.delete(array1, 0, axis = 1)\n",
    "print(arr_img)"
   ]
  },
  {
   "cell_type": "code",
   "execution_count": 43,
   "metadata": {},
   "outputs": [
    {
     "name": "stdout",
     "output_type": "stream",
     "text": [
      "['7' '3' '8' ... '7' '2' '5']\n"
     ]
    }
   ],
   "source": [
    "#labels\n",
    "label = array1[:, 0]\n",
    "print(label)"
   ]
  },
  {
   "cell_type": "code",
   "execution_count": 44,
   "metadata": {},
   "outputs": [
    {
     "name": "stdout",
     "output_type": "stream",
     "text": [
      "[[0 0 0 ... 0 0 0]\n",
      " [0 0 0 ... 0 0 0]\n",
      " [0 0 0 ... 0 0 0]\n",
      " ...\n",
      " [0 0 0 ... 0 0 0]\n",
      " [0 0 0 ... 0 0 0]\n",
      " [0 0 0 ... 0 0 0]] [7 3 8 ... 7 2 5]\n"
     ]
    }
   ],
   "source": [
    "X = arr_img.astype(np.int64)\n",
    "y = label.astype(np.int64)\n",
    "print(X, y)"
   ]
  },
  {
   "cell_type": "code",
   "execution_count": 45,
   "metadata": {},
   "outputs": [],
   "source": [
    "# from sklearn.preprocessing import MinMaxScaler\n",
    "# scaler = MinMaxScaler()\n",
    "# # scaler.fit(X)\n",
    "# X = scaler.fit_transform(X)\n",
    "# print(X)\n"
   ]
  },
  {
   "cell_type": "code",
   "execution_count": 46,
   "metadata": {},
   "outputs": [],
   "source": [
    "from sklearn.model_selection import train_test_split\n",
    "X_train, X_test, y_train, y_test = train_test_split(X, y, test_size=0.33, random_state=42)\n"
   ]
  },
  {
   "cell_type": "code",
   "execution_count": 47,
   "metadata": {},
   "outputs": [],
   "source": [
    "from sklearn.neural_network import MLPClassifier\n",
    "from sklearn.metrics import precision_recall_fscore_support\n",
    "\n",
    "num_predic = 10\n",
    "def train_fuc(num_hidden_layer, num_nodes, act_func):\n",
    "    max_itr = 1000\n",
    "    solver = 'ibfgs'\n",
    "    t_hls = np.zeros(num_hidden_layer).astype(np.int64)\n",
    "    i = 0\n",
    "    while i < num_hidden_layer:\n",
    "        t_hls[i-1] = num_nodes\n",
    "        i += 1\n",
    "    t_hls = tuple(t_hls)\n",
    "    start = time.time()\n",
    "    mlp = MLPClassifier (\n",
    "        hidden_layer_sizes=t_hls,\n",
    "        activation = act_func,\n",
    "        max_iter = max_itr        \n",
    "    )\n",
    "    mlp.fit(X_train, y_train)\n",
    "    time_sent=time.time()-start    \n",
    "    # print(mlp.predict(X_test[120].reshape(1, -1)))\n",
    "    # # print(\"Training set score: %f\" % mlp.score(X_train, y_train))\n",
    "    # # print(\"Test set score: %f\" % mlp.score(X_test, y_test))\n",
    "    y_true = y_test[0:num_predic]\n",
    "    # y_pred = np.zeros(num_predic).astype(np.int64)\n",
    "    y_pred = list([])\n",
    "    k = 0;\n",
    "    while k < num_predic:\n",
    "        y_pred.append(mlp.predict(X_test[k].reshape(1, -1)))\n",
    "        k += 1    \n",
    "    prfs = precision_recall_fscore_support(y_true, y_pred, average='macro', zero_division=0)\n",
    "    \n",
    "    \n",
    "    return [time_sent, prfs]\n",
    "    "
   ]
  },
  {
   "cell_type": "code",
   "execution_count": 48,
   "metadata": {},
   "outputs": [],
   "source": [
    "nodes = [20, 40 ,60 ,80 ,100]\n",
    "index = 0\n",
    "time_prfs_relu = list([])\n",
    "time_prfs_tanh = list([])\n",
    "\n",
    "for node in nodes:\n",
    "    time_prfs_relu.append(train_fuc(2, node, 'relu'))\n",
    "    time_prfs_tanh.append(train_fuc(2, node, 'tanh'))\n",
    "    index += 1"
   ]
  },
  {
   "cell_type": "code",
   "execution_count": 49,
   "metadata": {},
   "outputs": [],
   "source": [
    "time_consum_relu = list([])\n",
    "time_consum_tanh = list([])\n",
    "prfs1 = list([])\n",
    "prfs2 = list([])\n",
    "for x in time_prfs_relu:\n",
    "    time_consum_relu.append(x[0])\n",
    "    prfs1.append(x[1])\n",
    "for x in time_prfs_tanh:\n",
    "    time_consum_tanh.append(x[0])\n",
    "    prfs2.append(x[1])"
   ]
  },
  {
   "cell_type": "code",
   "execution_count": 50,
   "metadata": {},
   "outputs": [
    {
     "name": "stdout",
     "output_type": "stream",
     "text": [
      "avtive function=relu, node=20:  precision= 0.8571428571428571, recall= 0.8214285714285714, fscore= 0.8367346938775511\n",
      "avtive function=relu, node=40:  precision= 0.75, recall= 0.8333333333333334, fscore= 0.7777777777777777\n",
      "avtive function=relu, node=60:  precision= 1.0, recall= 1.0, fscore= 1.0\n",
      "avtive function=relu, node=80:  precision= 0.75, recall= 0.8333333333333334, fscore= 0.7777777777777778\n",
      "avtive function=relu, node=100:  precision= 0.75, recall= 0.8333333333333334, fscore= 0.7777777777777777\n"
     ]
    }
   ],
   "source": [
    "# print(prfs1)\n",
    "i=0\n",
    "for x in prfs1:\n",
    "    print(f\"avtive function=relu, node={nodes[i]}:  precision= {x[0]},\", f\"recall= {x[1]},\", f\"fscore= {x[2]}\")\n",
    "    i+=1\n",
    "    # print(f\"recall: {x[1]}\")\n",
    "    # print(f\"fscore: {x[2]}\")\n",
    "# print(prfs2)"
   ]
  },
  {
   "cell_type": "code",
   "execution_count": 51,
   "metadata": {},
   "outputs": [
    {
     "name": "stdout",
     "output_type": "stream",
     "text": [
      "avtive function=relu, node=20:  precision= 1.0, recall= 1.0, fscore= 1.0\n",
      "avtive function=relu, node=40:  precision= 0.6666666666666666, recall= 0.7916666666666666, fscore= 0.6984126984126985\n",
      "avtive function=relu, node=60:  precision= 1.0, recall= 1.0, fscore= 1.0\n",
      "avtive function=relu, node=80:  precision= 1.0, recall= 1.0, fscore= 1.0\n",
      "avtive function=relu, node=100:  precision= 1.0, recall= 1.0, fscore= 1.0\n"
     ]
    }
   ],
   "source": [
    "i=0\n",
    "for x in prfs2:\n",
    "    print(f\"avtive function=relu, node={nodes[i]}:  precision= {x[0]},\", f\"recall= {x[1]},\", f\"fscore= {x[2]}\")\n",
    "    i+=1"
   ]
  },
  {
   "cell_type": "code",
   "execution_count": 52,
   "metadata": {},
   "outputs": [
    {
     "data": {
      "image/png": "[encoded data removed]",
      "text/plain": [
       "<Figure size 640x480 with 1 Axes>"
      ]
     },
     "metadata": {},
     "output_type": "display_data"
    }
   ],
   "source": [
    "line1 = plt.plot(nodes, time_consum_relu, marker = '*')\n",
    "line2 = plt.plot(nodes, time_consum_tanh, marker = 'o')\n",
    "plt.legend(['relu', 'tanh'])\n",
    "plt.xlabel(\"Number of nodes in hidden layer(=2)\")\n",
    "plt.ylabel(\"Time\")\n",
    "plt.grid()\n",
    "plt.show()"
   ]
  },
  {
   "cell_type": "code",
   "execution_count": 53,
   "metadata": {},
   "outputs": [],
   "source": [
    "h_layers = [1, 2 ,3 ,4 ,5]\n",
    "time_prfs_relu1 = list([])\n",
    "time_prfs_tanh1 = list([])\n",
    "index1 = 0\n",
    "for h_layer in h_layers:\n",
    "    time_prfs_relu1.append(train_fuc(2, node, 'relu'))\n",
    "    time_prfs_tanh1.append(train_fuc(2, node, 'tanh'))\n",
    "    index1 += 1"
   ]
  },
  {
   "cell_type": "code",
   "execution_count": 54,
   "metadata": {},
   "outputs": [],
   "source": [
    "time_consum_relu1 = list([])\n",
    "time_consum_tanh1 = list([])\n",
    "prfs11 = list([])\n",
    "prfs21 = list([])\n",
    "for x in time_prfs_relu1:\n",
    "    time_consum_relu1.append(x[0])\n",
    "    prfs11.append(x[1])\n",
    "for x in time_prfs_tanh1:\n",
    "    time_consum_tanh1.append(x[0])\n",
    "    prfs21.append(x[1])"
   ]
  },
  {
   "cell_type": "code",
   "execution_count": 55,
   "metadata": {},
   "outputs": [
    {
     "name": "stdout",
     "output_type": "stream",
     "text": [
      "avtive function=tanh, hidden layers=1:  precision= 0.5, recall= 0.5714285714285714, fscore= 0.5238095238095238\n",
      "avtive function=tanh, hidden layers=2:  precision= 0.75, recall= 0.8333333333333334, fscore= 0.7777777777777778\n",
      "avtive function=tanh, hidden layers=3:  precision= 1.0, recall= 1.0, fscore= 1.0\n",
      "avtive function=tanh, hidden layers=4:  precision= 0.75, recall= 0.8333333333333334, fscore= 0.7777777777777778\n",
      "avtive function=tanh, hidden layers=5:  precision= 0.6428571428571429, recall= 0.6785714285714286, fscore= 0.6462585034013605\n"
     ]
    }
   ],
   "source": [
    "j=0\n",
    "for x in prfs11:\n",
    "    print(f\"avtive function=tanh, hidden layers={h_layers[j]}:  precision= {x[0]},\", f\"recall= {x[1]},\", f\"fscore= {x[2]}\")\n",
    "    j+=1"
   ]
  },
  {
   "cell_type": "code",
   "execution_count": 56,
   "metadata": {},
   "outputs": [
    {
     "name": "stdout",
     "output_type": "stream",
     "text": [
      "avtive function=tanh, hidden layers=1:  precision= 1.0, recall= 1.0, fscore= 1.0\n",
      "avtive function=tanh, hidden layers=2:  precision= 0.9166666666666666, recall= 0.9583333333333334, fscore= 0.9206349206349206\n",
      "avtive function=tanh, hidden layers=3:  precision= 1.0, recall= 1.0, fscore= 1.0\n",
      "avtive function=tanh, hidden layers=4:  precision= 0.75, recall= 0.8333333333333334, fscore= 0.7777777777777778\n",
      "avtive function=tanh, hidden layers=5:  precision= 0.75, recall= 0.8333333333333334, fscore= 0.7777777777777778\n"
     ]
    }
   ],
   "source": [
    "j=0\n",
    "for x in prfs21:\n",
    "    print(f\"avtive function=tanh, hidden layers={h_layers[j]}:  precision= {x[0]},\", f\"recall= {x[1]},\", f\"fscore= {x[2]}\")\n",
    "    j+=1"
   ]
  },
  {
   "cell_type": "code",
   "execution_count": 57,
   "metadata": {},
   "outputs": [
    {
     "data": {
      "image/png": "[encoded data removed]",
      "text/plain": [
       "<Figure size 640x480 with 1 Axes>"
      ]
     },
     "metadata": {},
     "output_type": "display_data"
    }
   ],
   "source": [
    "line1_1 = plt.plot(h_layers, time_consum_relu1, marker = '*')\n",
    "line2_1 = plt.plot(h_layers, time_consum_tanh1, marker = 'o')\n",
    "plt.legend(['relu', 'tanh'])\n",
    "plt.xlabel(\"Number of hidden layer(node=20)\")\n",
    "plt.ylabel(\"Time\")\n",
    "plt.grid()\n",
    "plt.show()"
   ]
  }
 ],
 "metadata": {
  "kernelspec": {
   "display_name": "Python 3.10.4 64-bit",
   "language": "python",
   "name": "python3"
  },
  "language_info": {
   "codemirror_mode": {
    "name": "ipython",
    "version": 3
   },
   "file_extension": ".py",
   "mimetype": "text/x-python",
   "name": "python",
   "nbconvert_exporter": "python",
   "pygments_lexer": "ipython3",
   "version": "3.10.4"
  },
  "orig_nbformat": 4,
  "vscode": {
   "interpreter": {
    "hash": "07eefbb724a56d0ab80257500fd1c4bda3382990123b0ccd03110414422d8062"
   }
  }
 },
 "nbformat": 4,
 "nbformat_minor": 2
}
